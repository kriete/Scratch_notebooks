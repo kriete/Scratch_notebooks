{
 "cells": [
  {
   "cell_type": "markdown",
   "metadata": {},
   "source": [
    "# R-Kernel required."
   ]
  },
  {
   "cell_type": "markdown",
   "metadata": {},
   "source": [
    "# Define reader-functions (parsing)"
   ]
  },
  {
   "cell_type": "code",
   "execution_count": 1,
   "metadata": {},
   "outputs": [],
   "source": [
    "read_flow_data <- function(event_number, basin_number ){\n",
    "    path <- paste('ERAD files/flow/Ev', c(event_number), sep=\"\")\n",
    "    path <- paste(path, c(basin_number), sep=\"_\")\n",
    "    path <- paste(path, 'csv', sep='.')\n",
    "    data <- read.csv(file=path, header=FALSE, sep=',')\n",
    "    data$date <- paste(data$V1,data$V2,data$V3,data$V4,data$V5)\n",
    "    data$date <- as.POSIXlt(data$date, tz=\"\", format=\"%Y %m %d %H %M\")\n",
    "    data <- data[c(\"V6\", \"date\")]\n",
    "    data$V6 <- data$V6*0.0283168466 # conversion to m^3/s\n",
    "    return(data)\n",
    "}\n",
    "\n",
    "read_basin_data <- function(event_number, basin_number, resolution){\n",
    "    path <- paste('ERAD files/Rainfall_BA/ERAD_BA_', c(basin_number), sep=\"\")\n",
    "    path <- paste(path, c(event_number), sep=\"_E\")\n",
    "    path <- paste(path, c(resolution), sep=\"_\")\n",
    "    path <- paste(path, 'min.csv', sep='')\n",
    "    data = read.csv(file=path, header=TRUE, sep=',')\n",
    "    data$date <- paste(data$X0,data$X1,data$X2,data$X3,data$X4)\n",
    "    data$date <- as.POSIXlt(data$date, tz=\"\", format=\"%Y %m %d %H %M\")\n",
    "    data <- data[c(\"BAverage\", \"date\")]\n",
    "    return(data)\n",
    "}\n",
    "\n",
    "read_gauge_data <- function(event_number, basin_number, resolution, gauge_number){\n",
    "    path <- paste('ERAD files/RG/ERAD_RG_', c(basin_number), sep=\"\")\n",
    "    path <- paste(path, c(event_number), sep=\"_E\")\n",
    "    path <- paste(path, c(resolution), sep=\"_\")\n",
    "    path <- paste(path, 'min.csv', sep='')\n",
    "    data = read.csv(file=path, header=TRUE, sep=',')\n",
    "    data$date <- paste(data$X0,data$X1,data$X2,data$X3,data$X4)\n",
    "    data$date <- as.POSIXlt(data$date, tz=\"\", format=\"%Y %m %d %H %M\")\n",
    "    data <- data[c(gauge_number, \"date\")]\n",
    "    names(data)[names(data) == gauge_number] <- 'RG'\n",
    "    return(data)\n",
    "}"
   ]
  },
  {
   "cell_type": "markdown",
   "metadata": {},
   "source": [
    "# Read event data of 5 events in basin 409"
   ]
  },
  {
   "cell_type": "code",
   "execution_count": 2,
   "metadata": {},
   "outputs": [],
   "source": [
    "flow_409_list <- list()\n",
    "basin15min_409 <- list()\n",
    "basin60min_409 <- list()\n",
    "rg15min_409 <- list()\n",
    "rg60min_409 <- list()\n",
    "for (i in 1:5) {\n",
    "    flow_409_list[[i]] = read_flow_data(i, 409)\n",
    "    basin15min_409[[i]] = read_basin_data(i, 409, 15)\n",
    "    basin60min_409[[i]] = read_basin_data(i, 409, 60)\n",
    "    rg15min_409[[i]] = read_gauge_data(i, 409, 15, 'RG_9')\n",
    "    rg60min_409[[i]] = read_gauge_data(i, 409, 60, 'RG_9')\n",
    "}\n",
    "\n",
    "flow_507_list <- list()\n",
    "basin15min_507 <- list()\n",
    "basin60min_507 <- list()\n",
    "rg15min_507 <- list()\n",
    "rg60min_507 <- list()\n",
    "for (i in 1:5) {\n",
    "    flow_507_list[[i]] = read_flow_data(i, 507)\n",
    "    basin15min_507[[i]] = read_basin_data(i, 507, 15)\n",
    "    basin60min_507[[i]] = read_basin_data(i, 507, 60)\n",
    "    rg15min_507[[i]] = read_gauge_data(i, 507, 15, 'RG_66')\n",
    "    rg60min_507[[i]] = read_gauge_data(i, 507, 60, 'RG_66')\n",
    "}"
   ]
  },
  {
   "cell_type": "markdown",
   "metadata": {},
   "source": [
    "# Define plotting functions"
   ]
  },
  {
   "cell_type": "code",
   "execution_count": 3,
   "metadata": {},
   "outputs": [
    {
     "data": {
      "text/html": [
       "'LC_CTYPE=en_US.UTF-8;LC_NUMERIC=C;LC_TIME=en_US.UTF-8;LC_COLLATE=en_US.UTF-8;LC_MONETARY=en_US.UTF-8;LC_MESSAGES=en_US.UTF-8;LC_PAPER=nl_NL.UTF-8;LC_NAME=C;LC_ADDRESS=C;LC_TELEPHONE=C;LC_MEASUREMENT=nl_NL.UTF-8;LC_IDENTIFICATION=C'"
      ],
      "text/latex": [
       "'LC\\_CTYPE=en\\_US.UTF-8;LC\\_NUMERIC=C;LC\\_TIME=en\\_US.UTF-8;LC\\_COLLATE=en\\_US.UTF-8;LC\\_MONETARY=en\\_US.UTF-8;LC\\_MESSAGES=en\\_US.UTF-8;LC\\_PAPER=nl\\_NL.UTF-8;LC\\_NAME=C;LC\\_ADDRESS=C;LC\\_TELEPHONE=C;LC\\_MEASUREMENT=nl\\_NL.UTF-8;LC\\_IDENTIFICATION=C'"
      ],
      "text/markdown": [
       "'LC_CTYPE=en_US.UTF-8;LC_NUMERIC=C;LC_TIME=en_US.UTF-8;LC_COLLATE=en_US.UTF-8;LC_MONETARY=en_US.UTF-8;LC_MESSAGES=en_US.UTF-8;LC_PAPER=nl_NL.UTF-8;LC_NAME=C;LC_ADDRESS=C;LC_TELEPHONE=C;LC_MEASUREMENT=nl_NL.UTF-8;LC_IDENTIFICATION=C'"
      ],
      "text/plain": [
       "[1] \"LC_CTYPE=en_US.UTF-8;LC_NUMERIC=C;LC_TIME=en_US.UTF-8;LC_COLLATE=en_US.UTF-8;LC_MONETARY=en_US.UTF-8;LC_MESSAGES=en_US.UTF-8;LC_PAPER=nl_NL.UTF-8;LC_NAME=C;LC_ADDRESS=C;LC_TELEPHONE=C;LC_MEASUREMENT=nl_NL.UTF-8;LC_IDENTIFICATION=C\""
      ]
     },
     "metadata": {},
     "output_type": "display_data"
    }
   ],
   "source": [
    "Sys.setenv(\"LANGUAGE\"=\"En\")\n",
    "Sys.setlocale(\"LC_ALL\", \"en_US.UTF-8\")\n",
    "\n",
    "plot_flow_basin_avg_overlapping <- function(out_file_name, ba_events_15min, ba_events_60min, flow_events, title_basin_id){\n",
    "    pdf(out_file_name, width=10, height=22)\n",
    "    par(mfrow=c(5,1),oma=c(0,0,2,0)) \n",
    "    par(xaxs=\"i\", yaxs=\"i\", mar=c(5,5,5,5))\n",
    "    for (i in 1:length(ba_events_15min)) {\n",
    "        plot(ba_events_15min[[i]]$date, ba_events_15min[[i]]$BAverage, type=\"s\", ylim=c(max(ba_events_15min[[i]]$BAverage)*1.5,0),\n",
    "         axes=FALSE, xlab=NA, ylab=NA, col=\"blue\", lwd=2, lend=\"square\")\n",
    "        lines(ba_events_60min[[i]]$date, ba_events_60min[[i]]$BAverage/4, type=\"s\", ylim=c(max(ba_events_15min[[i]]$BAverage)*1.5,0), xlab=NA, ylab=NA, col=\"red\", lwd=2, lend=\"square\")\n",
    "        legend(\"bottomright\", c(\"basinAVG 15-min\", \"basinAVG 60-min\"), lwd=2, col=c(\"blue\", \"red\"))\n",
    "        axis(4)\n",
    "        mtext(\"Rainfall [mm/15min]\", side=4, line=3)\n",
    "        par(new=TRUE)\n",
    "        plot(flow_events[[i]]$date, flow_events[[i]]$V6, type=\"l\", lwd=2, ylim=c(0, max(flow_events[[i]]$V6)*1.2), ylab='Flow [m^3/s]', xlab='')\n",
    "        cur_title <- paste('Basin-average rainfall vs flow for Event ', i)\n",
    "        cur_title <- paste(cur_title, ' at ')\n",
    "        cur_title <- paste(cur_title, title_basin_id)\n",
    "        title(cur_title)\n",
    "    }\n",
    "    dev.off()\n",
    "    }\n",
    "\n",
    "plot_flow_gauge_overlapping <- function(out_file_name, rg_events_15min, rg_events_60min, flow_events, title_basin_id){\n",
    "    pdf(out_file_name, width=10, height=22)\n",
    "    par(mfrow=c(5,1)) \n",
    "    par(xaxs=\"i\", yaxs=\"i\", mar=c(5,5,5,5))\n",
    "    for (i in 1:length(rg_events_15min)) {\n",
    "        plot(rg_events_15min[[i]]$date, rg_events_15min[[i]]$RG, type=\"s\", ylim=c(max(rg_events_15min[[i]]$RG)*1.5,0),\n",
    "         axes=FALSE, xlab=NA, ylab=NA, col=\"blue\", lwd=2, lend=\"square\")\n",
    "        lines(rg_events_60min[[i]]$date, rg_events_60min[[i]]$RG/4, type=\"s\", ylim=c(max(rg_events_15min[[i]]$RG)*1.5,0),\n",
    "              xlab=NA, ylab=NA, col=\"red\", lwd=2, lend=\"square\")\n",
    "        legend(\"bottomright\", c(\"RG 15-min\", \"RG 60-min\"), lwd=2, col=c(\"blue\", \"red\"))\n",
    "        axis(4)\n",
    "        mtext(\"Rainfall [mm/15min]\", side=4, line=3)\n",
    "        par(new=TRUE)\n",
    "        plot(flow_events[[i]]$date, flow_events[[i]]$V6, type=\"l\", lwd=2, ylim=c(0, max(flow_events[[i]]$V6)*1.2), ylab='Flow [m^3/s]', xlab='')        \n",
    "        cur_title <- paste('Gauge measured rainfall vs flow for Event ', i)\n",
    "        cur_title <- paste(cur_title, ' at ')\n",
    "        cur_title <- paste(cur_title, title_basin_id)\n",
    "        title(cur_title)\n",
    "    }\n",
    "    dev.off()\n",
    "    }"
   ]
  },
  {
   "cell_type": "markdown",
   "metadata": {},
   "source": [
    "## Basin average plot"
   ]
  },
  {
   "cell_type": "code",
   "execution_count": 4,
   "metadata": {},
   "outputs": [
    {
     "data": {
      "text/html": [
       "<strong>png:</strong> 2"
      ],
      "text/latex": [
       "\\textbf{png:} 2"
      ],
      "text/markdown": [
       "**png:** 2"
      ],
      "text/plain": [
       "png \n",
       "  2 "
      ]
     },
     "metadata": {},
     "output_type": "display_data"
    },
    {
     "data": {
      "text/html": [
       "<strong>png:</strong> 2"
      ],
      "text/latex": [
       "\\textbf{png:} 2"
      ],
      "text/markdown": [
       "**png:** 2"
      ],
      "text/plain": [
       "png \n",
       "  2 "
      ]
     },
     "metadata": {},
     "output_type": "display_data"
    }
   ],
   "source": [
    "plot_flow_basin_avg_overlapping('flow_BAOverlapping_409.pdf', basin15min_409, basin60min_409, flow_409_list, '409')\n",
    "plot_flow_basin_avg_overlapping('flow_BAOverlapping_507.pdf', basin15min_507, basin60min_507, flow_507_list, '507')"
   ]
  },
  {
   "cell_type": "markdown",
   "metadata": {},
   "source": [
    "## RG plot"
   ]
  },
  {
   "cell_type": "code",
   "execution_count": 5,
   "metadata": {},
   "outputs": [
    {
     "data": {
      "text/html": [
       "<strong>png:</strong> 2"
      ],
      "text/latex": [
       "\\textbf{png:} 2"
      ],
      "text/markdown": [
       "**png:** 2"
      ],
      "text/plain": [
       "png \n",
       "  2 "
      ]
     },
     "metadata": {},
     "output_type": "display_data"
    },
    {
     "data": {
      "text/html": [
       "<strong>png:</strong> 2"
      ],
      "text/latex": [
       "\\textbf{png:} 2"
      ],
      "text/markdown": [
       "**png:** 2"
      ],
      "text/plain": [
       "png \n",
       "  2 "
      ]
     },
     "metadata": {},
     "output_type": "display_data"
    }
   ],
   "source": [
    "plot_flow_gauge_overlapping('flow_RGOverlapping_409.pdf', rg15min_409, rg60min_409, flow_409_list, '409')\n",
    "plot_flow_gauge_overlapping('flow_RGOverlapping_507.pdf', rg15min_507, rg60min_507, flow_507_list, '507')"
   ]
  },
  {
   "cell_type": "markdown",
   "metadata": {},
   "source": [
    "## Runoff Ratio (RR)"
   ]
  },
  {
   "cell_type": "code",
   "execution_count": 6,
   "metadata": {},
   "outputs": [],
   "source": [
    "print_runoff_ratio <- function(flow_ev, ba_rain_15min, basin_area) {\n",
    "    flow_ev$V6 <- flow_ev$V6 * 1000 * 60/ basin_area\n",
    "    flow_15_min <- aggregate(flow_ev[1], list(cut(flow_ev[[2]], '15 mins')), sum)\n",
    "    rr <- sum(flow_15_min[[2]]) / sum(ba_rain_15min)\n",
    "    print(rr)\n",
    "    return(rr)\n",
    "}"
   ]
  },
  {
   "cell_type": "code",
   "execution_count": 7,
   "metadata": {},
   "outputs": [
    {
     "data": {
      "text/html": [
       "2.6647"
      ],
      "text/latex": [
       "2.6647"
      ],
      "text/markdown": [
       "2.6647"
      ],
      "text/plain": [
       "[1] 2.6647"
      ]
     },
     "metadata": {},
     "output_type": "display_data"
    }
   ],
   "source": [
    "sum(basin15min_409[[i]][[1]]/4)"
   ]
  },
  {
   "cell_type": "code",
   "execution_count": 8,
   "metadata": {},
   "outputs": [
    {
     "name": "stdout",
     "output_type": "stream",
     "text": [
      "[1] \"Runoff basin 15 409\"\n",
      "[1] 0.6268238\n",
      "[1] 0.4730038\n",
      "[1] 0.5317724\n",
      "[1] 0.4380284\n",
      "[1] 0.9333338\n",
      "[1] \"Runoff basin 15 507\"\n",
      "[1] 0.6457988\n",
      "[1] 0.5529407\n",
      "[1] 0.514497\n",
      "[1] 0.6114855\n",
      "[1] 1.25599\n"
     ]
    }
   ],
   "source": [
    "runoff_holder_basin_15_409 <- list()\n",
    "print('Runoff basin 15 409')\n",
    "for (i in 1:5) {\n",
    "    temp <- basin15min_409[[i]][[1]]\n",
    "    rr <- print_runoff_ratio(flow_409_list[[i]], temp, 31*1000000)\n",
    "    runoff_holder_basin_15_409[[i]] <- rr\n",
    "}\n",
    "\n",
    "runoff_holder_basin_15_507 <- list()\n",
    "print('Runoff basin 15 507')\n",
    "for (i in 1:5) {\n",
    "    temp <- basin15min_507[[i]][[1]]\n",
    "    rr <- print_runoff_ratio(flow_507_list[[i]], temp, 111* 1000000)\n",
    "    runoff_holder_basin_15_507[[i]] <- rr\n",
    "}\n"
   ]
  },
  {
   "cell_type": "code",
   "execution_count": 9,
   "metadata": {},
   "outputs": [
    {
     "name": "stdout",
     "output_type": "stream",
     "text": [
      "[1] \"Runoff RG 409\"\n",
      "[1] 0.5659042\n",
      "[1] 0.6081782\n",
      "[1] 0.6013829\n",
      "[1] 0.5742808\n",
      "[1] 0.3035199\n",
      "[1] \"Runoff RG 507\"\n",
      "[1] 0.3948349\n",
      "[1] 0.5719734\n",
      "[1] 0.415323\n",
      "[1] 0.4608634\n",
      "[1] 0.5118758\n"
     ]
    }
   ],
   "source": [
    "runoff_holder_409_rg <- list()\n",
    "print('Runoff RG 409')\n",
    "for (i in 1:5) {\n",
    "    rr <- print_runoff_ratio(flow_409_list[[i]], rg15min_409[[i]][[1]], 31*1000000)\n",
    "    runoff_holder_409_rg[[i]] <- rr\n",
    "}\n",
    "\n",
    "runoff_holder_507_rg <- list()\n",
    "print('Runoff RG 507')\n",
    "for (i in 1:5) {\n",
    "    rr <- print_runoff_ratio(flow_507_list[[i]], rg15min_507[[i]][[1]], 111*1000000)\n",
    "    runoff_holder_507_rg[[i]] <- rr\n",
    "}"
   ]
  },
  {
   "cell_type": "markdown",
   "metadata": {},
   "source": [
    "## Response Time (RT)"
   ]
  },
  {
   "cell_type": "code",
   "execution_count": 10,
   "metadata": {},
   "outputs": [],
   "source": [
    "print_response_time <- function(flow, rain) {\n",
    "    idx_max_flow <- which.max(flow[[1]])\n",
    "    date_max_flow <- flow$date[idx_max_flow]\n",
    "    \n",
    "    idx_max_rain <- which.max(rain[[1]])\n",
    "    date_max_rain <- rain$date[idx_max_rain]\n",
    "    \n",
    "    print(date_max_flow - date_max_rain)\n",
    "    rt <- date_max_flow - date_max_rain\n",
    "    rt <- as.numeric(rt, units=\"mins\")\n",
    "    return(rt)\n",
    "}"
   ]
  },
  {
   "cell_type": "markdown",
   "metadata": {},
   "source": [
    "## Basin "
   ]
  },
  {
   "cell_type": "code",
   "execution_count": 11,
   "metadata": {},
   "outputs": [
    {
     "name": "stdout",
     "output_type": "stream",
     "text": [
      "[1] \"15 min:\"\n",
      "Time difference of 1.316667 hours\n",
      "[1] \"60 min:\"\n",
      "Time difference of 1.816667 hours\n",
      "[1] \"15 min:\"\n",
      "Time difference of 1.15 hours\n",
      "[1] \"60 min:\"\n",
      "Time difference of 1.15 hours\n",
      "[1] \"15 min:\"\n",
      "Time difference of 42 mins\n",
      "[1] \"60 min:\"\n",
      "Time difference of 1.2 hours\n",
      "[1] \"15 min:\"\n",
      "Time difference of 1.15625 days\n",
      "[1] \"60 min:\"\n",
      "Time difference of 1.166667 days\n",
      "[1] \"15 min:\"\n",
      "Time difference of 15 mins\n",
      "[1] \"60 min:\"\n",
      "Time difference of 1.25 hours\n"
     ]
    }
   ],
   "source": [
    "rt_holder_basin_15_409 <- list()\n",
    "rt_holder_basin_60_409 <- list()\n",
    "for (i in 1:5) {\n",
    "    print('15 min:')\n",
    "    rt <- print_response_time(flow_409_list[[i]], basin15min_409[[i]])\n",
    "    rt_holder_basin_15_409[[i]] <- rt\n",
    "    print('60 min:')\n",
    "    rt <- print_response_time(flow_409_list[[i]], basin60min_409[[i]])\n",
    "    rt_holder_basin_60_409[[i]] <- rt\n",
    "}"
   ]
  },
  {
   "cell_type": "code",
   "execution_count": 12,
   "metadata": {},
   "outputs": [
    {
     "name": "stdout",
     "output_type": "stream",
     "text": [
      "[1] \"15 min:\"\n",
      "Time difference of 2.216667 hours\n",
      "[1] \"60 min:\"\n",
      "Time difference of 1.966667 hours\n",
      "[1] \"15 min:\"\n",
      "Time difference of 2.8 hours\n",
      "[1] \"60 min:\"\n",
      "Time difference of 2.8 hours\n",
      "[1] \"15 min:\"\n",
      "Time difference of 2.333333 hours\n",
      "[1] \"60 min:\"\n",
      "Time difference of 2.833333 hours\n",
      "[1] \"15 min:\"\n",
      "Time difference of 1.197917 days\n",
      "[1] \"60 min:\"\n",
      "Time difference of 1.208333 days\n",
      "[1] \"15 min:\"\n",
      "Time difference of 1 hours\n",
      "[1] \"60 min:\"\n",
      "Time difference of 2 hours\n"
     ]
    }
   ],
   "source": [
    "rt_holder_basin_15_507 <- list()\n",
    "rt_holder_basin_60_507 <- list()\n",
    "for (i in 1:5) {\n",
    "    print('15 min:')\n",
    "    rt <- print_response_time(flow_507_list[[i]], basin15min_507[[i]])\n",
    "    rt_holder_basin_15_507[[i]] <- rt\n",
    "    print('60 min:')\n",
    "    rt <- print_response_time(flow_507_list[[i]], basin60min_507[[i]])\n",
    "    rt_holder_basin_60_507[[i]] <- rt\n",
    "}"
   ]
  },
  {
   "cell_type": "markdown",
   "metadata": {},
   "source": [
    "## Gauge"
   ]
  },
  {
   "cell_type": "code",
   "execution_count": 13,
   "metadata": {},
   "outputs": [
    {
     "name": "stdout",
     "output_type": "stream",
     "text": [
      "[1] \"15 min:\"\n",
      "Time difference of 19 mins\n",
      "[1] \"60 min:\"\n",
      "Time difference of 1.816667 hours\n",
      "[1] \"15 min:\"\n",
      "Time difference of 1.15 hours\n",
      "[1] \"60 min:\"\n",
      "Time difference of 1.15 hours\n",
      "[1] \"15 min:\"\n",
      "Time difference of 42 mins\n",
      "[1] \"60 min:\"\n",
      "Time difference of 1.2 hours\n",
      "[1] \"15 min:\"\n",
      "Time difference of -17.75 hours\n",
      "[1] \"60 min:\"\n",
      "Time difference of 1.166667 days\n",
      "[1] \"15 min:\"\n",
      "Time difference of 15 mins\n",
      "[1] \"60 min:\"\n",
      "Time difference of 15 mins\n"
     ]
    }
   ],
   "source": [
    "rt_holder_rg_15_409 <- list()\n",
    "rt_holder_rg_60_409 <- list()\n",
    "for (i in 1:5) {\n",
    "    print('15 min:')\n",
    "    rt <- print_response_time(flow_409_list[[i]], rg15min_409[[i]])\n",
    "    rt_holder_rg_15_409[[i]] <- rt\n",
    "    print('60 min:')\n",
    "    rt <- print_response_time(flow_409_list[[i]], rg60min_409[[i]])\n",
    "    rt_holder_rg_60_409[[i]] <- rt\n",
    "}"
   ]
  },
  {
   "cell_type": "code",
   "execution_count": 14,
   "metadata": {},
   "outputs": [
    {
     "name": "stdout",
     "output_type": "stream",
     "text": [
      "[1] \"15 min:\"\n",
      "Time difference of 2.216667 hours\n",
      "[1] \"60 min:\"\n",
      "Time difference of 2.966667 hours\n",
      "[1] \"15 min:\"\n",
      "Time difference of 3.55 hours\n",
      "[1] \"60 min:\"\n",
      "Time difference of 2.8 hours\n",
      "[1] \"15 min:\"\n",
      "Time difference of 2.333333 hours\n",
      "[1] \"60 min:\"\n",
      "Time difference of 2.833333 hours\n",
      "[1] \"15 min:\"\n",
      "Time difference of -16.5 hours\n",
      "[1] \"60 min:\"\n",
      "Time difference of 1.208333 days\n",
      "[1] \"15 min:\"\n",
      "Time difference of 1.25 hours\n",
      "[1] \"60 min:\"\n",
      "Time difference of 1 hours\n"
     ]
    }
   ],
   "source": [
    "rt_holder_rg_15_507 <- list()\n",
    "rt_holder_rg_60_507 <- list()\n",
    "for (i in 1:5) {\n",
    "    print('15 min:')\n",
    "    rt <- print_response_time(flow_507_list[[i]], rg15min_507[[i]])\n",
    "    rt_holder_rg_15_507[[i]] <- rt\n",
    "    print('60 min:')\n",
    "    rt <- print_response_time(flow_507_list[[i]], rg60min_507[[i]])\n",
    "    rt_holder_rg_60_507[[i]] <- rt\n",
    "}"
   ]
  },
  {
   "cell_type": "markdown",
   "metadata": {},
   "source": [
    "# Plot the results"
   ]
  },
  {
   "cell_type": "markdown",
   "metadata": {},
   "source": [
    "### Runoff Ratio"
   ]
  },
  {
   "cell_type": "code",
   "execution_count": 15,
   "metadata": {},
   "outputs": [],
   "source": [
    "x <- rep(1, 5)\n",
    "x <- c(x, rep(2, 5))\n",
    "x <- c(x, rep(3, 5))\n",
    "x <- c(x, rep(4, 5))\n",
    "rr_list <- c( runoff_holder_basin_15_409, runoff_holder_409_rg, runoff_holder_basin_15_507, runoff_holder_507_rg )  "
   ]
  },
  {
   "cell_type": "code",
   "execution_count": 16,
   "metadata": {},
   "outputs": [
    {
     "data": {
      "text/html": [
       "<strong>png:</strong> 2"
      ],
      "text/latex": [
       "\\textbf{png:} 2"
      ],
      "text/markdown": [
       "**png:** 2"
      ],
      "text/plain": [
       "png \n",
       "  2 "
      ]
     },
     "metadata": {},
     "output_type": "display_data"
    }
   ],
   "source": [
    "pdf('runoff.pdf', width=7, height=5)\n",
    "plot(x, rr_list, xaxt='n', ylab='Runoff Ratio (RR) [-]', xlab='Dataset')\n",
    "title('Runoff Ratio for basins 409 and 507')\n",
    "abline(v=2.5, col=\"blue\")\n",
    "axis(1,at=c(1, 2, 3, 4),labels=c(\"Basin15 409\", \"RG15 409\", \"Basin15 507\", \"RG15 507\"))\n",
    "dev.off()"
   ]
  },
  {
   "cell_type": "markdown",
   "metadata": {},
   "source": [
    "### Response Time"
   ]
  },
  {
   "cell_type": "code",
   "execution_count": 17,
   "metadata": {},
   "outputs": [],
   "source": [
    "x <- rep(1, 5) # there's probably a better way to do that in R ...\n",
    "x <- c(x, rep(2, 5))\n",
    "x <- c(x, rep(3, 5))\n",
    "x <- c(x, rep(4, 5))\n",
    "x <- c(x, rep(5, 5))\n",
    "x <- c(x, rep(6, 5))\n",
    "x <- c(x, rep(7, 5))\n",
    "x <- c(x, rep(8, 5))\n",
    "rt_list <- c(rt_holder_basin_15_409, rt_holder_basin_60_409, rt_holder_rg_15_409, rt_holder_rg_60_409, rt_holder_basin_15_507, rt_holder_basin_60_507, rt_holder_rg_15_507, rt_holder_rg_60_507)"
   ]
  },
  {
   "cell_type": "code",
   "execution_count": 18,
   "metadata": {},
   "outputs": [
    {
     "data": {
      "text/html": [
       "<strong>png:</strong> 2"
      ],
      "text/latex": [
       "\\textbf{png:} 2"
      ],
      "text/markdown": [
       "**png:** 2"
      ],
      "text/plain": [
       "png \n",
       "  2 "
      ]
     },
     "metadata": {},
     "output_type": "display_data"
    }
   ],
   "source": [
    "pdf('response_time.pdf', width=14, height=5)\n",
    "#plot(x, rt_list, xaxt='n', ylab='Response Time [min]', xlab='Dataset', log='y')\n",
    "#idx <- rt_list<0\n",
    "#plot(x[!idx], rt_list[!idx], xaxt='n', ylab='Response Time [min]', xlab='Dataset', log='y', col='black')\n",
    "#points(x[idx], lapply(rt_list[idx], abs), col='red')\n",
    "\n",
    "plot(x, rt_list, xaxt='n', ylab='Response Time [min]', xlab='Dataset', col='black')\n",
    "\n",
    "title('Response Time for basins 409 and 507')\n",
    "abline(v=4.5, col=\"blue\")\n",
    "axis(1,at=c(1, 2, 3, 4, 5, 6, 7, 8),labels=c(\"Basin15 409\", \"Basin60 409\", \"RG15 409\", \"RG60 409\", \"Basin15 507\", \"Basin60 507\", \"RG15 507\", \"RG60 507\"))\n",
    "dev.off()"
   ]
  },
  {
   "cell_type": "code",
   "execution_count": null,
   "metadata": {},
   "outputs": [],
   "source": []
  }
 ],
 "metadata": {
  "kernelspec": {
   "display_name": "R",
   "language": "R",
   "name": "ir"
  },
  "language_info": {
   "codemirror_mode": "r",
   "file_extension": ".r",
   "mimetype": "text/x-r-source",
   "name": "R",
   "pygments_lexer": "r",
   "version": "3.4.4"
  }
 },
 "nbformat": 4,
 "nbformat_minor": 2
}
